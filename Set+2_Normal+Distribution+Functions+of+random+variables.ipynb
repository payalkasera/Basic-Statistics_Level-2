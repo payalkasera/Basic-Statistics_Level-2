{
 "cells": [
  {
   "cell_type": "markdown",
   "id": "0972739e",
   "metadata": {},
   "source": [
    "# Assignment-2-Set2-Q1 (Basic Statistic Level-2)\n",
    "Q1. The time required for servicing transmissions is normally distributed with µ = 45 minutes and σ = 8 minutes. The service manager plans to have work begin on the transmission of a customer’s car 10 minutes after the car is dropped off and the customer is told that the car will be ready within 1 hour from drop-off. What is the probability that the service manager cannot meet his commitment?"
   ]
  },
  {
   "cell_type": "code",
   "execution_count": 2,
   "id": "a0005bf8",
   "metadata": {
    "ExecuteTime": {
     "end_time": "2022-02-12T07:28:35.016016Z",
     "start_time": "2022-02-12T07:28:33.894688Z"
    }
   },
   "outputs": [],
   "source": [
    "from scipy import stats\n",
    "from scipy.stats import norm\n",
    "import numpy as np"
   ]
  },
  {
   "cell_type": "code",
   "execution_count": null,
   "id": "e4f03db6",
   "metadata": {},
   "outputs": [],
   "source": [
    "#defining variable 'X' as time taken to complete car repair service.So the Probability of completing the car repair with 1 hr of dropping the car and starting the work after 10 mins of car drop (60 mins - 10 mins) is P(X<=50 mins)So, P(X>50) = 1-P(X<=50) i.e. cannot meet his commitment"
   ]
  },
  {
   "cell_type": "code",
   "execution_count": 2,
   "id": "59761daf",
   "metadata": {
    "ExecuteTime": {
     "end_time": "2021-10-14T05:41:42.440835Z",
     "start_time": "2021-10-14T05:41:42.395343Z"
    }
   },
   "outputs": [
    {
     "data": {
      "text/plain": [
       "0.625"
      ]
     },
     "execution_count": 2,
     "metadata": {},
     "output_type": "execute_result"
    }
   ],
   "source": [
    "#Z-Scores at X=50; Z = (X - µ) / σ \n",
    "Z=(50-45)/8\n",
    "Z"
   ]
  },
  {
   "cell_type": "code",
   "execution_count": 3,
   "id": "e68182cc",
   "metadata": {
    "ExecuteTime": {
     "end_time": "2021-10-14T05:43:46.752780Z",
     "start_time": "2021-10-14T05:43:46.727685Z"
    }
   },
   "outputs": [
    {
     "data": {
      "text/plain": [
       "0.26598552904870054"
      ]
     },
     "execution_count": 3,
     "metadata": {},
     "output_type": "execute_result"
    }
   ],
   "source": [
    "# Find probability P(X>50) = 1-stats.norm.cdf(abs(z_score))\n",
    "1-stats.norm.cdf(abs(0.625))"
   ]
  },
  {
   "cell_type": "code",
   "execution_count": 4,
   "id": "ccf3d947",
   "metadata": {
    "ExecuteTime": {
     "end_time": "2021-10-14T05:44:02.001380Z",
     "start_time": "2021-10-14T05:44:01.972374Z"
    }
   },
   "outputs": [
    {
     "data": {
      "text/plain": [
       "0.7340144709512995"
      ]
     },
     "execution_count": 4,
     "metadata": {},
     "output_type": "execute_result"
    }
   ],
   "source": [
    "# OR Find probability P(X<=50); p_value=stats.norm.cdf(abs(z_score))  \n",
    "p_value=stats.norm.cdf(abs(0.625)) \n",
    "p_value"
   ]
  },
  {
   "cell_type": "code",
   "execution_count": 5,
   "id": "6118c659",
   "metadata": {
    "ExecuteTime": {
     "end_time": "2021-10-14T05:44:15.484092Z",
     "start_time": "2021-10-14T05:44:15.467614Z"
    }
   },
   "outputs": [
    {
     "data": {
      "text/plain": [
       "0.266"
      ]
     },
     "execution_count": 5,
     "metadata": {},
     "output_type": "execute_result"
    }
   ],
   "source": [
    "# P(X>50) = 1 - P(X<=50)\n",
    "1-0.734"
   ]
  },
  {
   "cell_type": "markdown",
   "id": "a6064d4c",
   "metadata": {},
   "source": [
    "Set2-Q2 (Basic Statistic Level-2)¶\n",
    "Q2. The current age (in years) of 400 clerical employees at an insurance claims processing center is normally distributed with mean µ = 38 and Standard deviation σ = 6. For each statement below, please specify True/False. If false, briefly explain why. A. More employees at the processing center are older than 44 than between 38 and 44. B. A training program for employees under the age of 30 at the center would be expected to attract about 36 employees."
   ]
  },
  {
   "cell_type": "code",
   "execution_count": 6,
   "id": "3a3c99bd",
   "metadata": {
    "ExecuteTime": {
     "end_time": "2021-10-14T05:55:55.441536Z",
     "start_time": "2021-10-14T05:55:55.422784Z"
    }
   },
   "outputs": [],
   "source": [
    "# A. More employees at the processing center are older than 44 than between 38 and 44.\n"
   ]
  },
  {
   "cell_type": "code",
   "execution_count": 7,
   "id": "7cedf165",
   "metadata": {
    "ExecuteTime": {
     "end_time": "2021-10-14T05:57:13.250136Z",
     "start_time": "2021-10-14T05:57:13.228114Z"
    }
   },
   "outputs": [
    {
     "data": {
      "text/plain": [
       "0.15865525393145707"
      ]
     },
     "execution_count": 7,
     "metadata": {},
     "output_type": "execute_result"
    }
   ],
   "source": [
    "# p(X>44); Employees older than 44 yrs of age\n",
    "1-stats.norm.cdf(44,loc=38,scale=6)"
   ]
  },
  {
   "cell_type": "code",
   "execution_count": 8,
   "id": "7070b9f0",
   "metadata": {
    "ExecuteTime": {
     "end_time": "2021-10-14T05:57:32.682566Z",
     "start_time": "2021-10-14T05:57:32.650321Z"
    }
   },
   "outputs": [
    {
     "data": {
      "text/plain": [
       "0.3413447460685429"
      ]
     },
     "execution_count": 8,
     "metadata": {},
     "output_type": "execute_result"
    }
   ],
   "source": [
    "\n",
    "# p(38<X<44); Employees between 38 to 44 yrs of age\n",
    "stats.norm.cdf(44,38,6)-stats.norm.cdf(38,38,6)"
   ]
  },
  {
   "cell_type": "markdown",
   "id": "71ab1981",
   "metadata": {},
   "source": [
    "# SOLUTION FOR A\n",
    "Inference: From above, statement A is False as Probability of employees aged between 38 to 44 is more."
   ]
  },
  {
   "cell_type": "markdown",
   "id": "a6708e5e",
   "metadata": {
    "ExecuteTime": {
     "end_time": "2021-10-14T06:13:56.284237Z",
     "start_time": "2021-10-14T06:13:56.265229Z"
    }
   },
   "source": [
    "# B. A training program for employees under the age of 30 at the center would be expected to attract about 36 employees."
   ]
  },
  {
   "cell_type": "code",
   "execution_count": 10,
   "id": "790a44be",
   "metadata": {
    "ExecuteTime": {
     "end_time": "2021-10-14T06:14:08.871186Z",
     "start_time": "2021-10-14T06:14:08.850678Z"
    }
   },
   "outputs": [
    {
     "data": {
      "text/plain": [
       "0.09121121972586788"
      ]
     },
     "execution_count": 10,
     "metadata": {},
     "output_type": "execute_result"
    }
   ],
   "source": [
    "# P(X<30); Employees under 30 yrs of age\n",
    "stats.norm.cdf(30,38,6)"
   ]
  },
  {
   "cell_type": "code",
   "execution_count": 11,
   "id": "271444ba",
   "metadata": {
    "ExecuteTime": {
     "end_time": "2021-10-14T06:14:19.546429Z",
     "start_time": "2021-10-14T06:14:19.525755Z"
    }
   },
   "outputs": [
    {
     "data": {
      "text/plain": [
       "36.484487890347154"
      ]
     },
     "execution_count": 11,
     "metadata": {},
     "output_type": "execute_result"
    }
   ],
   "source": [
    "# No. of employees attending training program from 400 nos. is N*P(X<30)\n",
    "400*stats.norm.cdf(30,38,6)"
   ]
  },
  {
   "cell_type": "markdown",
   "id": "6221a7e6",
   "metadata": {
    "ExecuteTime": {
     "end_time": "2021-10-14T06:14:32.682222Z",
     "start_time": "2021-10-14T06:14:32.663031Z"
    }
   },
   "source": [
    "# Inference: From above, statement B is True as no. of employees aged below 33 yrs attending training is 36"
   ]
  },
  {
   "cell_type": "markdown",
   "id": "62d66c8b",
   "metadata": {},
   "source": [
    "# Assignment-2-Set2-Q3 (Basic Statistic Level-2)"
   ]
  },
  {
   "cell_type": "code",
   "execution_count": 12,
   "id": "25bfdcdd",
   "metadata": {
    "ExecuteTime": {
     "end_time": "2022-02-12T07:41:33.793954Z",
     "start_time": "2022-02-12T07:41:33.785362Z"
    }
   },
   "outputs": [],
   "source": [
    "# 3.\tIf X1 ~ N(μ, σ2) and X2 ~ N(μ, σ2) are iid normal random variables, then what is the difference between 2 X1 and X1 + X2? Discuss both their distributions and parameters.      "
   ]
  },
  {
   "cell_type": "code",
   "execution_count": 13,
   "id": "36e14ba0",
   "metadata": {
    "ExecuteTime": {
     "end_time": "2022-02-12T07:42:57.075299Z",
     "start_time": "2022-02-12T07:42:57.065546Z"
    }
   },
   "outputs": [],
   "source": [
    "#solution\n",
    "# As we know that if X~ N(μ1, σ1ᶺ2), and Y~N(μ2, σ2ᶺ2) are two independent random variables then X+Y ~N(μ1+ μ2, σ1ᶺ2+ σ2ᶺ2)  and X-Y~N( μ1- μ2, σ1ᶺ2+ σ2ᶺ2)\n",
    "# Similarly if Z=aX+bY, where X and Y as defined above, i.e., Z  is linear combination of X and Y, then Z- N(aμ1+b μ2 , aᶺσ1ᶺ2 +bᶺσ2ᶺ2)\n",
    "# Therefore in the question\n",
    "# 2X1-N(2u,4 σᶺ2) and \n",
    "# X1+X2 ~ N(μ+ μ, σᶺ2+ σᶺ2) ~ N(2u, 2σᶺ2)\n",
    "# 2X1-(X1+X2)= N(4u, 6σᶺ2)\n"
   ]
  },
  {
   "cell_type": "markdown",
   "id": "fc1337b2",
   "metadata": {},
   "source": []
  },
  {
   "cell_type": "markdown",
   "id": "b391e420",
   "metadata": {},
   "source": [
    "# Assignment-2-Set2-Q4 (Basic Statistic Level-2)\n",
    "Q4. Let X ~ N(100, 20^2). Find two values, a and b, symmetric about the mean, such that the probability of the random variable taking a value between them is 0.99.\n"
   ]
  },
  {
   "cell_type": "code",
   "execution_count": 13,
   "id": "76c9b913",
   "metadata": {
    "ExecuteTime": {
     "end_time": "2021-10-14T06:19:06.189143Z",
     "start_time": "2021-10-14T06:19:06.153174Z"
    }
   },
   "outputs": [
    {
     "data": {
      "text/plain": [
       "(48.48341392902199, 151.516586070978)"
      ]
     },
     "execution_count": 13,
     "metadata": {},
     "output_type": "execute_result"
    }
   ],
   "source": [
    "\n",
    "stats.norm.interval(0.99,100,20)"
   ]
  },
  {
   "cell_type": "code",
   "execution_count": 14,
   "id": "90b6e2fe",
   "metadata": {
    "ExecuteTime": {
     "end_time": "2021-10-14T06:29:02.489493Z",
     "start_time": "2021-10-14T06:29:02.471388Z"
    }
   },
   "outputs": [],
   "source": [
    "# A=48.5, B=151.5 \n"
   ]
  },
  {
   "cell_type": "markdown",
   "id": "c2859d5a",
   "metadata": {},
   "source": [
    "# Assignment-2-Set2-Q5 (Basic Statistic Level-2)"
   ]
  },
  {
   "cell_type": "code",
   "execution_count": 8,
   "id": "af170e31",
   "metadata": {
    "ExecuteTime": {
     "end_time": "2022-02-12T07:35:38.064494Z",
     "start_time": "2022-02-12T07:35:38.061494Z"
    }
   },
   "outputs": [],
   "source": [
    "# Consider a company that has two different divisions. The annual profits from the two divisions are independent and have distributions Profit1 ~ N(5, 32) and Profit2 ~ N(7, 42) respectively. Both the profits are in $ Million. Answer the following questions about the total profit of the company in Rupees. Assume that $1 = Rs. 45"
   ]
  },
  {
   "cell_type": "markdown",
   "id": "fffc817f",
   "metadata": {},
   "source": [
    "# A. Specify a Rupee range (centered on the mean) such that it contains 95% probability for the annual profit of the company.\n"
   ]
  },
  {
   "cell_type": "code",
   "execution_count": 3,
   "id": "42b35450",
   "metadata": {
    "ExecuteTime": {
     "end_time": "2022-02-12T07:28:41.472835Z",
     "start_time": "2022-02-12T07:28:41.462749Z"
    }
   },
   "outputs": [
    {
     "name": "stdout",
     "output_type": "stream",
     "text": [
      "Mean Profit is Rs 540 Million\n"
     ]
    }
   ],
   "source": [
    "# Mean profits from two different divisions of a company = Mean1 + Mean2\n",
    "Mean = 5+7\n",
    "print('Mean Profit is Rs', Mean*45,'Million')"
   ]
  },
  {
   "cell_type": "code",
   "execution_count": 4,
   "id": "399dc63a",
   "metadata": {
    "ExecuteTime": {
     "end_time": "2022-02-12T07:28:45.032174Z",
     "start_time": "2022-02-12T07:28:45.022174Z"
    }
   },
   "outputs": [
    {
     "name": "stdout",
     "output_type": "stream",
     "text": [
      "Standard Deviation is Rs 225.0 Million\n"
     ]
    }
   ],
   "source": [
    "# Variance of profits from two different divisions of a company = SD^2 = SD1^2 + SD2^2\n",
    "SD = np.sqrt((9)+(16))\n",
    "print('Standard Deviation is Rs', SD*45, 'Million')"
   ]
  },
  {
   "cell_type": "code",
   "execution_count": 5,
   "id": "bf190a0a",
   "metadata": {
    "ExecuteTime": {
     "end_time": "2022-02-12T07:28:49.097935Z",
     "start_time": "2022-02-12T07:28:49.081916Z"
    }
   },
   "outputs": [
    {
     "name": "stdout",
     "output_type": "stream",
     "text": [
      "Range is Rs (99.00810347848784, 980.9918965215122) in Millions\n"
     ]
    }
   ],
   "source": [
    "print('Range is Rs',(stats.norm.interval(0.95,540,225)),'in Millions')"
   ]
  },
  {
   "cell_type": "markdown",
   "id": "983cb62e",
   "metadata": {},
   "source": [
    "# B. Specify the 5th percentile of profit (in Rupees) for the company\n"
   ]
  },
  {
   "cell_type": "code",
   "execution_count": 6,
   "id": "569669f6",
   "metadata": {
    "ExecuteTime": {
     "end_time": "2022-02-12T07:30:22.031412Z",
     "start_time": "2022-02-12T07:30:22.022128Z"
    }
   },
   "outputs": [
    {
     "name": "stdout",
     "output_type": "stream",
     "text": [
      "5th percentile of profit (in Million Rupees) is 170.0\n"
     ]
    }
   ],
   "source": [
    "# To compute 5th Percentile, we use the formula X=μ + Zσ; wherein from z table, 5 percentile = -1.645\n",
    "X= 540+(-1.645)*(225)\n",
    "print('5th percentile of profit (in Million Rupees) is',np.round(X,))"
   ]
  },
  {
   "cell_type": "markdown",
   "id": "9c677ff6",
   "metadata": {},
   "source": [
    "# C. Which of the two divisions has a larger probability of making a loss in a given year?"
   ]
  },
  {
   "cell_type": "code",
   "execution_count": 7,
   "id": "59d7d57d",
   "metadata": {
    "ExecuteTime": {
     "end_time": "2022-02-12T07:30:52.875350Z",
     "start_time": "2022-02-12T07:30:52.850341Z"
    }
   },
   "outputs": [
    {
     "data": {
      "text/plain": [
       "0.040059156863817086"
      ]
     },
     "execution_count": 7,
     "metadata": {},
     "output_type": "execute_result"
    }
   ],
   "source": [
    "# Probability of Division 2 making a loss P(X<0)\n",
    "stats.norm.cdf(0,7,4)"
   ]
  },
  {
   "cell_type": "markdown",
   "id": "133965b3",
   "metadata": {},
   "source": [
    "Inference: Probability of Division 1 making a loss in a given year is more than Division 2."
   ]
  },
  {
   "cell_type": "code",
   "execution_count": null,
   "id": "9b80963b",
   "metadata": {},
   "outputs": [],
   "source": []
  }
 ],
 "metadata": {
  "kernelspec": {
   "display_name": "Python 3",
   "language": "python",
   "name": "python3"
  },
  "language_info": {
   "codemirror_mode": {
    "name": "ipython",
    "version": 3
   },
   "file_extension": ".py",
   "mimetype": "text/x-python",
   "name": "python",
   "nbconvert_exporter": "python",
   "pygments_lexer": "ipython3",
   "version": "3.8.8"
  }
 },
 "nbformat": 4,
 "nbformat_minor": 5
}
