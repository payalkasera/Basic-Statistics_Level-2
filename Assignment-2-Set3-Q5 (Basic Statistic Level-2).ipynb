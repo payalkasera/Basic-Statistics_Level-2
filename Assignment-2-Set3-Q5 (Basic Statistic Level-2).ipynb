{
 "cells": [
  {
   "cell_type": "markdown",
   "id": "76169201",
   "metadata": {},
   "source": [
    "# Assignment-2-Set3-Q5 (Basic Statistic Level-2)"
   ]
  },
  {
   "cell_type": "code",
   "execution_count": 1,
   "id": "212b4a92",
   "metadata": {
    "ExecuteTime": {
     "end_time": "2022-02-12T12:12:16.618281Z",
     "start_time": "2022-02-12T12:12:16.610280Z"
    }
   },
   "outputs": [],
   "source": [
    "import numpy as np\n",
    "from scipy import stats\n",
    "from scipy.stats import norm"
   ]
  },
  {
   "cell_type": "code",
   "execution_count": 2,
   "id": "4d369a67",
   "metadata": {
    "ExecuteTime": {
     "end_time": "2022-02-12T12:12:31.227222Z",
     "start_time": "2022-02-12T12:12:31.211103Z"
    }
   },
   "outputs": [],
   "source": [
    "# Apply One-Sample One-Tail z-test\n"
   ]
  },
  {
   "cell_type": "code",
   "execution_count": 3,
   "id": "637308a2",
   "metadata": {
    "ExecuteTime": {
     "end_time": "2022-02-12T12:12:50.695719Z",
     "start_time": "2022-02-12T12:12:50.665321Z"
    }
   },
   "outputs": [
    {
     "data": {
      "text/plain": [
       "-0.820782681668124"
      ]
     },
     "execution_count": 3,
     "metadata": {},
     "output_type": "execute_result"
    }
   ],
   "source": [
    "z_scores=(0.046-0.05)/(np.sqrt((0.05*(1-0.05))/2000))\n",
    "z_scores\n"
   ]
  },
  {
   "cell_type": "code",
   "execution_count": 4,
   "id": "14dd4cf3",
   "metadata": {
    "ExecuteTime": {
     "end_time": "2022-02-12T12:12:53.736109Z",
     "start_time": "2022-02-12T12:12:53.719656Z"
    }
   },
   "outputs": [],
   "source": [
    "# Find Probability assuming null hyposthesis, so as to compare with Type-1 error α = 0.05"
   ]
  },
  {
   "cell_type": "code",
   "execution_count": 5,
   "id": "8576809c",
   "metadata": {
    "ExecuteTime": {
     "end_time": "2022-02-12T12:13:02.826211Z",
     "start_time": "2022-02-12T12:13:02.807573Z"
    }
   },
   "outputs": [
    {
     "data": {
      "text/plain": [
       "0.20588503245107104"
      ]
     },
     "execution_count": 5,
     "metadata": {},
     "output_type": "execute_result"
    }
   ],
   "source": [
    "p_value=1-stats.norm.cdf(abs(z_scores))\n",
    "p_value"
   ]
  },
  {
   "cell_type": "code",
   "execution_count": null,
   "id": "be3253bc",
   "metadata": {},
   "outputs": [],
   "source": []
  }
 ],
 "metadata": {
  "kernelspec": {
   "display_name": "Python 3",
   "language": "python",
   "name": "python3"
  },
  "language_info": {
   "codemirror_mode": {
    "name": "ipython",
    "version": 3
   },
   "file_extension": ".py",
   "mimetype": "text/x-python",
   "name": "python",
   "nbconvert_exporter": "python",
   "pygments_lexer": "ipython3",
   "version": "3.8.8"
  }
 },
 "nbformat": 4,
 "nbformat_minor": 5
}
